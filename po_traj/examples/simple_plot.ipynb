{
 "cells": [
  {
   "cell_type": "code",
   "execution_count": null,
   "metadata": {
    "lines_to_next_cell": 0
   },
   "outputs": [],
   "source": [
    "# project name: po_traj\n",
    "# created by diego aliaga daliaga_at_chacaltaya.edu.bo"
   ]
  },
  {
   "cell_type": "code",
   "execution_count": null,
   "metadata": {},
   "outputs": [],
   "source": [
    "import pandas as pd"
   ]
  },
  {
   "cell_type": "code",
   "execution_count": null,
   "metadata": {},
   "outputs": [],
   "source": [
    "path_data = '/Users/diego/po_traj/po_traj/data/traj4jiali.csv'\n",
    "df = pd.read_csv(path_data)"
   ]
  },
  {
   "cell_type": "code",
   "execution_count": null,
   "metadata": {
    "lines_to_next_cell": 0
   },
   "outputs": [],
   "source": [
    "\n",
    "# for easy column referring\n",
    "traj_parcel_time_UTC = 'traj_parcel_time_UTC'\n",
    "traj_start_UTC = 'traj_start_UTC'\n",
    "lat = 'lat'\n",
    "lon = 'lon'\n",
    "height = 'height'\n",
    "pressure = 'pressure'\n",
    "\n",
    "station_lat = 44.629\n",
    "station_lon = 10.949"
   ]
  },
  {
   "cell_type": "code",
   "execution_count": null,
   "metadata": {
    "lines_to_next_cell": 2
   },
   "outputs": [],
   "source": []
  },
  {
   "cell_type": "code",
   "execution_count": null,
   "metadata": {
    "lines_to_next_cell": 0
   },
   "outputs": [],
   "source": [
    "# convert to datetime64 format\n",
    "df[traj_start_UTC] = pd.to_datetime(df[traj_start_UTC])\n",
    "df[traj_parcel_time_UTC] = pd.to_datetime(df[traj_parcel_time_UTC])"
   ]
  },
  {
   "cell_type": "code",
   "execution_count": null,
   "metadata": {
    "lines_to_next_cell": 0
   },
   "outputs": [],
   "source": [
    "\n",
    "# group trajectories by their starting time\n",
    "dg = df.groupby(traj_start_UTC)"
   ]
  },
  {
   "cell_type": "code",
   "execution_count": null,
   "metadata": {},
   "outputs": [],
   "source": [
    "\n",
    "# imports for the plotting\n",
    "import cartopy.mpl.geoaxes\n",
    "import cartopy.crs as ccrs\n",
    "import cartopy.feature as cfeature\n",
    "import matplotlib.pyplot as plt\n",
    "\n",
    "\n",
    "\n",
    "fig = plt.figure()\n",
    "ax:cartopy.mpl.geoaxes.GeoAxesSubplot = fig.add_subplot(\n",
    "    1, 1, 1, projection=ccrs.PlateCarree())\n",
    "# ax.set_extent([-20, 60, -40, 45], crs=ccrs.PlateCarree())\n",
    "\n",
    "# plot all trajectories\n",
    "for label,row in dg:\n",
    "    # print(label)\n",
    "    ax.plot(row[lon],row[lat], color='k', alpha = .05)\n",
    "\n",
    "# plot station marker\n",
    "ax.scatter(station_lon,station_lat,\n",
    "           color='red',\n",
    "           # make it visible above the trajectory lines and features\n",
    "           zorder = 10\n",
    "           )\n",
    "\n",
    "# add features to the map. you can comment stuff out if you dont want it\n",
    "ax.add_feature(cfeature.LAND)\n",
    "ax.add_feature(cfeature.OCEAN)\n",
    "ax.add_feature(cfeature.COASTLINE)\n",
    "ax.add_feature(cfeature.BORDERS, linestyle=':')\n",
    "ax.add_feature(cfeature.LAKES, alpha=0.5)\n",
    "ax.add_feature(cfeature.RIVERS)\n",
    "\n",
    "plt.show()"
   ]
  }
 ],
 "metadata": {
  "jupytext": {
   "cell_metadata_filter": "-all",
   "formats": "ipynb,py:percent",
   "main_language": "python"
  }
 },
 "nbformat": 4,
 "nbformat_minor": 4
}
